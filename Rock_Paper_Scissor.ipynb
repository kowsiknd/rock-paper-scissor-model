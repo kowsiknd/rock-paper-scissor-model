{
  "nbformat": 4,
  "nbformat_minor": 0,
  "metadata": {
    "colab": {
      "name": "Rock Paper Scissor.ipynb",
      "provenance": [],
      "collapsed_sections": [],
      "mount_file_id": "1S4G9eT_MUIj9gsL6Dd7ftZSSXo2TAUFJ",
      "authorship_tag": "ABX9TyOYrnCWHo4fv+SxWTQu9B0g",
      "include_colab_link": true
    },
    "kernelspec": {
      "name": "python3",
      "display_name": "Python 3"
    },
    "language_info": {
      "name": "python"
    }
  },
  "cells": [
    {
      "cell_type": "markdown",
      "metadata": {
        "id": "view-in-github",
        "colab_type": "text"
      },
      "source": [
        "<a href=\"https://colab.research.google.com/github/kowsiknd/rock-paper-scissor-model/blob/main/Rock_Paper_Scissor.ipynb\" target=\"_parent\"><img src=\"https://colab.research.google.com/assets/colab-badge.svg\" alt=\"Open In Colab\"/></a>"
      ]
    },
    {
      "cell_type": "code",
      "metadata": {
        "id": "wPHftpU3Wxlw"
      },
      "source": [
        "import os\n",
        "DIR = '/content/drive/MyDrive/RPS/rps-cv-images'\n",
        "\n"
      ],
      "execution_count": 59,
      "outputs": []
    },
    {
      "cell_type": "code",
      "metadata": {
        "id": "7MLineAFmr-M"
      },
      "source": [
        "mapping={\"paper\":0, \"rock\":1, \"scissors\":2}\n",
        "reverse_mapping={\"0\":\"paper\", \"1\":\"rock\", \"2\":\"scissors\"}\n",
        "labels = list(mapping.keys())"
      ],
      "execution_count": 94,
      "outputs": []
    },
    {
      "cell_type": "code",
      "metadata": {
        "colab": {
          "base_uri": "https://localhost:8080/"
        },
        "id": "TieGntw7Ykcw",
        "outputId": "32eb3a62-aabb-4dc4-dfc9-225a613d309c"
      },
      "source": [
        "internal_dir = DIR\n",
        "for label in labels:\n",
        "  print(label, len([name for name in os.listdir(internal_dir+f\"/{label}\") if os.path.isfile(os.path.join(internal_dir+f\"/{label}\", name))]))"
      ],
      "execution_count": 61,
      "outputs": [
        {
          "output_type": "stream",
          "name": "stdout",
          "text": [
            "paper 712\n",
            "rock 726\n",
            "scissors 750\n"
          ]
        }
      ]
    },
    {
      "cell_type": "code",
      "metadata": {
        "id": "NaxMAZQlkg-i"
      },
      "source": [
        "batch_size=32\n",
        "image_height, image_width = 150, 150"
      ],
      "execution_count": 62,
      "outputs": []
    },
    {
      "cell_type": "code",
      "metadata": {
        "id": "OCWuiQe7oJcX"
      },
      "source": [
        "import tensorflow as tf\n",
        "import tensorflow.keras as keras\n",
        "import cv2\n",
        "from tensorflow.keras.preprocessing.image import load_img, img_to_array"
      ],
      "execution_count": 63,
      "outputs": []
    },
    {
      "cell_type": "code",
      "metadata": {
        "colab": {
          "base_uri": "https://localhost:8080/"
        },
        "id": "O3JW8s2Ymz0M",
        "outputId": "bab54da8-e4c3-4f2f-a773-1333dc968cd9"
      },
      "source": [
        "datasets = []\n",
        "print(os.listdir(DIR))\n",
        "count = 0\n",
        "for file in os.listdir(DIR):\n",
        "    if file=='README_rpc-cv-images.txt' or file=='rps-cv-images':\n",
        "        continue\n",
        "    path=os.path.join(DIR,file)\n",
        "    if not os.listdir(path):\n",
        "            continue\n",
        "    for im in os.listdir(path):\n",
        "        if im.startswith('.'):\n",
        "            continue\n",
        "        image=load_img(os.path.join(path,im),target_size=(150,150))\n",
        "        image=img_to_array(image)\n",
        "        image=image/255.0\n",
        "        datasets.append([image, count])\n",
        "    count += 1"
      ],
      "execution_count": 64,
      "outputs": [
        {
          "output_type": "stream",
          "name": "stdout",
          "text": [
            "['README_rpc-cv-images.txt', 'paper', 'rock', 'scissors']\n"
          ]
        }
      ]
    },
    {
      "cell_type": "code",
      "metadata": {
        "id": "X2NshnjloXmk"
      },
      "source": [
        "data, labels=zip(*datasets)"
      ],
      "execution_count": 65,
      "outputs": []
    },
    {
      "cell_type": "code",
      "metadata": {
        "id": "MWrNMIfOonYl"
      },
      "source": [
        "labels = np.array(labels)\n",
        "data = np.array(data)\n"
      ],
      "execution_count": 66,
      "outputs": []
    },
    {
      "cell_type": "code",
      "metadata": {
        "colab": {
          "base_uri": "https://localhost:8080/"
        },
        "id": "FUd8WlE2oo2p",
        "outputId": "e1e06c8e-99d5-42a4-cb33-eaf101b7bfaa"
      },
      "source": [
        "print(data.shape, labels.shape)"
      ],
      "execution_count": 67,
      "outputs": [
        {
          "output_type": "stream",
          "name": "stdout",
          "text": [
            "(2188, 150, 150, 3) (2188,)\n"
          ]
        }
      ]
    },
    {
      "cell_type": "code",
      "metadata": {
        "id": "eKSNmoBIpLQv"
      },
      "source": [
        "from sklearn.model_selection import train_test_split\n",
        "x_train, x_test, y_train, y_test = train_test_split(data, labels, test_size=0.2, random_state=44)"
      ],
      "execution_count": 68,
      "outputs": []
    },
    {
      "cell_type": "code",
      "metadata": {
        "colab": {
          "base_uri": "https://localhost:8080/"
        },
        "id": "omz_B8Bfpo4p",
        "outputId": "e1b94f4a-0d46-47c2-bf0e-c97605e670b9"
      },
      "source": [
        "print(x_train.shape, x_test.shape)\n",
        "print(y_train.shape, y_test.shape)"
      ],
      "execution_count": 69,
      "outputs": [
        {
          "output_type": "stream",
          "name": "stdout",
          "text": [
            "(1750, 150, 150, 3) (438, 150, 150, 3)\n",
            "(1750,) (438,)\n"
          ]
        }
      ]
    },
    {
      "cell_type": "code",
      "metadata": {
        "id": "8oCUDvC9pwBe"
      },
      "source": [
        "datagen = keras.preprocessing.image.ImageDataGenerator(\n",
        "    horizontal_flip=True,\n",
        "    vertical_flip=True,\n",
        "    rotation_range=20,\n",
        "    zoom_range=0.2,\n",
        "    width_shift_range = 0.2,\n",
        "    height_shift_range = 0.2,\n",
        "    shear_range=0.1,\n",
        "    fill_mode=\"nearest\"\n",
        ")"
      ],
      "execution_count": 70,
      "outputs": []
    },
    {
      "cell_type": "code",
      "metadata": {
        "id": "J46besvxqf2N"
      },
      "source": [
        "import keras.layers as layers"
      ],
      "execution_count": 71,
      "outputs": []
    },
    {
      "cell_type": "code",
      "metadata": {
        "colab": {
          "base_uri": "https://localhost:8080/"
        },
        "id": "FS9gsatgqSWs",
        "outputId": "534fa19c-93ff-4cdf-b601-da4a62fe9ccc"
      },
      "source": [
        "model = keras.Sequential([\n",
        "  layers.Conv2D(32, (3,3), input_shape=(150,150,3), activation='relu'),\n",
        "  layers.MaxPooling2D(2, 2),\n",
        "  layers.Conv2D(32, (3, 3), activation = 'relu'),\n",
        "  layers.MaxPooling2D(2, 2),\n",
        "  layers.Flatten(),\n",
        "  layers.Dense(512, activation=\"relu\"),\n",
        "  layers.Dense(3)\n",
        "])\n",
        "model.summary()"
      ],
      "execution_count": 77,
      "outputs": [
        {
          "output_type": "stream",
          "name": "stdout",
          "text": [
            "Model: \"sequential_3\"\n",
            "_________________________________________________________________\n",
            "Layer (type)                 Output Shape              Param #   \n",
            "=================================================================\n",
            "conv2d_6 (Conv2D)            (None, 148, 148, 32)      896       \n",
            "_________________________________________________________________\n",
            "max_pooling2d_6 (MaxPooling2 (None, 74, 74, 32)        0         \n",
            "_________________________________________________________________\n",
            "conv2d_7 (Conv2D)            (None, 72, 72, 32)        9248      \n",
            "_________________________________________________________________\n",
            "max_pooling2d_7 (MaxPooling2 (None, 36, 36, 32)        0         \n",
            "_________________________________________________________________\n",
            "flatten_3 (Flatten)          (None, 41472)             0         \n",
            "_________________________________________________________________\n",
            "dense_6 (Dense)              (None, 512)               21234176  \n",
            "_________________________________________________________________\n",
            "dense_7 (Dense)              (None, 3)                 1539      \n",
            "=================================================================\n",
            "Total params: 21,245,859\n",
            "Trainable params: 21,245,859\n",
            "Non-trainable params: 0\n",
            "_________________________________________________________________\n"
          ]
        }
      ]
    },
    {
      "cell_type": "code",
      "metadata": {
        "colab": {
          "base_uri": "https://localhost:8080/"
        },
        "id": "_I7Dl_xhrBaA",
        "outputId": "9baea7df-e28c-4375-e569-e97151aee71d"
      },
      "source": [
        "print(\"Num GPUs Available: \", len(tf.config.list_physical_devices('GPU')))"
      ],
      "execution_count": 78,
      "outputs": [
        {
          "output_type": "stream",
          "name": "stdout",
          "text": [
            "Num GPUs Available:  0\n"
          ]
        }
      ]
    },
    {
      "cell_type": "code",
      "metadata": {
        "id": "KxlNXSJ7tZJg"
      },
      "source": [
        "model.compile(\n",
        "    optimizer=keras.optimizers.Adam(),\n",
        "    loss=keras.losses.SparseCategoricalCrossentropy(from_logits=True),\n",
        "    metrics=[\"accuracy\"]\n",
        ")"
      ],
      "execution_count": 79,
      "outputs": []
    },
    {
      "cell_type": "code",
      "metadata": {
        "colab": {
          "base_uri": "https://localhost:8080/"
        },
        "id": "9vETLNIov7Au",
        "outputId": "d91e6e24-03b8-4128-8507-770a8f88dd81"
      },
      "source": [
        "history = model.fit(\n",
        "    datagen.flow(x_train, y_train, batch_size=32),\n",
        "    validation_data=(x_test,y_test),\n",
        "    epochs=20,\n",
        "    verbose=2\n",
        ")"
      ],
      "execution_count": 80,
      "outputs": [
        {
          "output_type": "stream",
          "name": "stdout",
          "text": [
            "Epoch 1/20\n",
            "55/55 - 61s - loss: 1.3366 - accuracy: 0.4177 - val_loss: 0.9362 - val_accuracy: 0.5776\n",
            "Epoch 2/20\n",
            "55/55 - 61s - loss: 0.8893 - accuracy: 0.6000 - val_loss: 0.6172 - val_accuracy: 0.7580\n",
            "Epoch 3/20\n",
            "55/55 - 61s - loss: 0.7054 - accuracy: 0.7086 - val_loss: 0.2777 - val_accuracy: 0.9155\n",
            "Epoch 4/20\n",
            "55/55 - 61s - loss: 0.5933 - accuracy: 0.7714 - val_loss: 0.3579 - val_accuracy: 0.8836\n",
            "Epoch 5/20\n",
            "55/55 - 64s - loss: 0.5381 - accuracy: 0.7846 - val_loss: 0.2194 - val_accuracy: 0.9315\n",
            "Epoch 6/20\n",
            "55/55 - 61s - loss: 0.4801 - accuracy: 0.8149 - val_loss: 0.2561 - val_accuracy: 0.9018\n",
            "Epoch 7/20\n",
            "55/55 - 61s - loss: 0.4439 - accuracy: 0.8211 - val_loss: 0.1802 - val_accuracy: 0.9452\n",
            "Epoch 8/20\n",
            "55/55 - 61s - loss: 0.4077 - accuracy: 0.8389 - val_loss: 0.1628 - val_accuracy: 0.9452\n",
            "Epoch 9/20\n",
            "55/55 - 61s - loss: 0.3577 - accuracy: 0.8646 - val_loss: 0.1376 - val_accuracy: 0.9498\n",
            "Epoch 10/20\n",
            "55/55 - 61s - loss: 0.3681 - accuracy: 0.8623 - val_loss: 0.1160 - val_accuracy: 0.9703\n",
            "Epoch 11/20\n",
            "55/55 - 61s - loss: 0.3097 - accuracy: 0.8829 - val_loss: 0.1214 - val_accuracy: 0.9566\n",
            "Epoch 12/20\n",
            "55/55 - 61s - loss: 0.2809 - accuracy: 0.9000 - val_loss: 0.0891 - val_accuracy: 0.9680\n",
            "Epoch 13/20\n",
            "55/55 - 61s - loss: 0.2090 - accuracy: 0.9217 - val_loss: 0.0743 - val_accuracy: 0.9703\n",
            "Epoch 14/20\n",
            "55/55 - 62s - loss: 0.2257 - accuracy: 0.9177 - val_loss: 0.0549 - val_accuracy: 0.9863\n",
            "Epoch 15/20\n",
            "55/55 - 62s - loss: 0.2070 - accuracy: 0.9274 - val_loss: 0.0935 - val_accuracy: 0.9726\n",
            "Epoch 16/20\n",
            "55/55 - 61s - loss: 0.1920 - accuracy: 0.9194 - val_loss: 0.0525 - val_accuracy: 0.9795\n",
            "Epoch 17/20\n",
            "55/55 - 62s - loss: 0.1958 - accuracy: 0.9291 - val_loss: 0.0514 - val_accuracy: 0.9840\n",
            "Epoch 18/20\n",
            "55/55 - 62s - loss: 0.1595 - accuracy: 0.9463 - val_loss: 0.0393 - val_accuracy: 0.9886\n",
            "Epoch 19/20\n",
            "55/55 - 62s - loss: 0.2133 - accuracy: 0.9200 - val_loss: 0.0597 - val_accuracy: 0.9749\n",
            "Epoch 20/20\n",
            "55/55 - 62s - loss: 0.1534 - accuracy: 0.9520 - val_loss: 0.0352 - val_accuracy: 0.9886\n"
          ]
        }
      ]
    },
    {
      "cell_type": "code",
      "metadata": {
        "colab": {
          "base_uri": "https://localhost:8080/"
        },
        "id": "n5tRz5081nHP",
        "outputId": "c969ab52-4091-466c-a625-ab5430f542c9"
      },
      "source": [
        "model.save(\"pretrained\")"
      ],
      "execution_count": 82,
      "outputs": [
        {
          "output_type": "stream",
          "name": "stdout",
          "text": [
            "INFO:tensorflow:Assets written to: pretrained/assets\n"
          ]
        }
      ]
    },
    {
      "cell_type": "code",
      "metadata": {
        "id": "pRhn4ZW687rH"
      },
      "source": [
        "import matplotlib.pyplot as plt\n",
        "%matplotlib inline"
      ],
      "execution_count": 84,
      "outputs": []
    },
    {
      "cell_type": "code",
      "metadata": {
        "colab": {
          "base_uri": "https://localhost:8080/",
          "height": 316
        },
        "id": "X4P1ISQ89DCc",
        "outputId": "ed2cf927-2053-47f2-d72d-e8588629f074"
      },
      "source": [
        "get_acc = history.history['accuracy']\n",
        "value_acc = history.history['val_accuracy']\n",
        "get_loss = history.history['loss']\n",
        "validation_loss = history.history['val_loss']\n",
        "\n",
        "epochs = range(len(get_acc))\n",
        "plt.plot(epochs, get_acc, 'r', label='Accuracy of Training data')\n",
        "plt.plot(epochs, value_acc, 'b', label='Accuracy of Validation data')\n",
        "plt.title('Training vs validation accuracy')\n",
        "plt.legend(loc=0)\n",
        "plt.figure()"
      ],
      "execution_count": 86,
      "outputs": [
        {
          "output_type": "execute_result",
          "data": {
            "text/plain": [
              "<Figure size 432x288 with 0 Axes>"
            ]
          },
          "metadata": {},
          "execution_count": 86
        },
        {
          "output_type": "display_data",
          "data": {
            "image/png": "[encoded data removed]",
            "text/plain": [
              "<Figure size 432x288 with 1 Axes>"
            ]
          },
          "metadata": {
            "needs_background": "light"
          }
        },
        {
          "output_type": "display_data",
          "data": {
            "text/plain": [
              "<Figure size 432x288 with 0 Axes>"
            ]
          },
          "metadata": {}
        }
      ]
    },
    {
      "cell_type": "code",
      "metadata": {
        "colab": {
          "base_uri": "https://localhost:8080/",
          "height": 298
        },
        "id": "ewDn_NsF9Pns",
        "outputId": "1d8c4212-6d8e-4649-c318-d2269e90e1e8"
      },
      "source": [
        "\n",
        "\n",
        "epochs = range(len(get_loss))\n",
        "plt.plot(epochs, get_loss, 'r', label='Accuracy of Training data')\n",
        "plt.plot(epochs, validation_loss, 'b', label='Accuracy of Validation data')\n",
        "plt.title('Training vs validation accuracy')\n",
        "plt.legend(loc=0)\n",
        "plt.figure()\n",
        "\n",
        "\n",
        "plt.show()\n",
        "\n"
      ],
      "execution_count": 87,
      "outputs": [
        {
          "output_type": "display_data",
          "data": {
            "image/png": "[encoded data removed]",
            "text/plain": [
              "<Figure size 432x288 with 1 Axes>"
            ]
          },
          "metadata": {
            "needs_background": "light"
          }
        },
        {
          "output_type": "display_data",
          "data": {
            "text/plain": [
              "<Figure size 432x288 with 0 Axes>"
            ]
          },
          "metadata": {}
        }
      ]
    },
    {
      "cell_type": "code",
      "metadata": {
        "colab": {
          "base_uri": "https://localhost:8080/"
        },
        "id": "tiUO1vl-127i",
        "outputId": "195f22d4-5360-4271-e965-0206b7e1aecc"
      },
      "source": [
        "data[0].shape"
      ],
      "execution_count": 83,
      "outputs": [
        {
          "output_type": "execute_result",
          "data": {
            "text/plain": [
              "(150, 150, 3)"
            ]
          },
          "metadata": {},
          "execution_count": 83
        }
      ]
    },
    {
      "cell_type": "code",
      "metadata": {
        "colab": {
          "base_uri": "https://localhost:8080/",
          "height": 286
        },
        "id": "oZqhoo5E85DH",
        "outputId": "55024efc-c668-4b17-ce4e-1b501bb04202"
      },
      "source": [
        "plt.imshow(data[800], cmap=\"gray\")"
      ],
      "execution_count": 120,
      "outputs": [
        {
          "output_type": "execute_result",
          "data": {
            "text/plain": [
              "<matplotlib.image.AxesImage at 0x7fd630e18190>"
            ]
          },
          "metadata": {},
          "execution_count": 120
        },
        {
          "output_type": "display_data",
          "data": {
            "image/png": "[encoded data removed]",
            "text/plain": [
              "<Figure size 432x288 with 1 Axes>"
            ]
          },
          "metadata": {
            "needs_background": "light"
          }
        }
      ]
    },
    {
      "cell_type": "code",
      "metadata": {
        "colab": {
          "base_uri": "https://localhost:8080/"
        },
        "id": "mhujH0ax-tj-",
        "outputId": "53f8583b-fde3-4abb-a7bb-70644f9d3623"
      },
      "source": [
        "data[0].shape"
      ],
      "execution_count": 100,
      "outputs": [
        {
          "output_type": "execute_result",
          "data": {
            "text/plain": [
              "(150, 150, 3)"
            ]
          },
          "metadata": {},
          "execution_count": 100
        }
      ]
    },
    {
      "cell_type": "code",
      "metadata": {
        "colab": {
          "base_uri": "https://localhost:8080/"
        },
        "id": "uO-tIlfc9ZAm",
        "outputId": "e3c1f815-bce7-4bca-faf2-87db0ac9f1e9"
      },
      "source": [
        "prediction_image=np.array(data[800])\n",
        "prediction_image= np.expand_dims(prediction_image, axis=0)\n",
        "prediction = model.predict(prediction_image)\n",
        "predicted_figure = np.argmax(prediction, axis=1)[0]\n",
        "predicted_figure"
      ],
      "execution_count": 121,
      "outputs": [
        {
          "output_type": "execute_result",
          "data": {
            "text/plain": [
              "1"
            ]
          },
          "metadata": {},
          "execution_count": 121
        }
      ]
    },
    {
      "cell_type": "code",
      "metadata": {
        "colab": {
          "base_uri": "https://localhost:8080/"
        },
        "id": "Q9Xp62-y9hlW",
        "outputId": "e113f620-6b4c-4813-a2e7-8a483f74eb09"
      },
      "source": [
        "# Convert the model.\n",
        "converter = tf.lite.TFLiteConverter.from_keras_model(model)\n",
        "tflite_model = converter.convert()\n",
        "\n",
        "# Save the model.\n",
        "with open('model.tflite', 'wb') as f:\n",
        "  f.write(tflite_model)\n"
      ],
      "execution_count": 108,
      "outputs": [
        {
          "output_type": "stream",
          "name": "stdout",
          "text": [
            "INFO:tensorflow:Assets written to: /tmp/tmptxjrva9h/assets\n"
          ]
        }
      ]
    },
    {
      "cell_type": "code",
      "metadata": {
        "id": "TJ4MO-dyBGI5"
      },
      "source": [
        "interpreter = tf.lite.Interpreter('./model.tflite')"
      ],
      "execution_count": 111,
      "outputs": []
    },
    {
      "cell_type": "code",
      "metadata": {
        "id": "aCBiEieCCQ4S"
      },
      "source": [
        "input_details = interpreter.get_input_details()\n",
        "output_details = interpreter.get_output_details()\n",
        "interpreter.allocate_tensors()"
      ],
      "execution_count": 112,
      "outputs": []
    },
    {
      "cell_type": "code",
      "metadata": {
        "colab": {
          "base_uri": "https://localhost:8080/"
        },
        "id": "mDV6hKLWCWRa",
        "outputId": "de225072-52ef-42e3-bd81-b1558e7c15c4"
      },
      "source": [
        "print(\"== Input details ==\")\n",
        "print(\"shape:\", input_details[0]['shape'])\n",
        "print(\"type:\", input_details[0]['dtype'])\n",
        "print(\"\\n== Output details ==\")\n",
        "print(\"shape:\", output_details[0]['shape'])\n",
        "print(\"type:\", output_details[0]['dtype'])"
      ],
      "execution_count": 113,
      "outputs": [
        {
          "output_type": "stream",
          "name": "stdout",
          "text": [
            "== Input details ==\n",
            "shape: [  1 150 150   3]\n",
            "type: <class 'numpy.float32'>\n",
            "\n",
            "== Output details ==\n",
            "shape: [1 3]\n",
            "type: <class 'numpy.float32'>\n"
          ]
        }
      ]
    },
    {
      "cell_type": "code",
      "metadata": {
        "colab": {
          "base_uri": "https://localhost:8080/"
        },
        "id": "cpHK13yQDCDV",
        "outputId": "299e938e-b996-4fef-ea25-1c566b62aea6"
      },
      "source": [
        "prediction_image = np.array(data[800])\n",
        "prediction_image = np.expand_dims(prediction_image, axis=0)\n",
        "\n",
        "\n",
        "interpreter.set_tensor(input_details[0]['index'], prediction_image)\n",
        "\n",
        "interpreter.invoke()\n",
        "\n",
        "# The function `get_tensor()` returns a copy of the tensor data.\n",
        "# Use `tensor()` in order to get a pointer to the tensor.\n",
        "output_data = interpreter.get_tensor(output_details[0]['index'])\n",
        "\n",
        "\n",
        "\n",
        "predicted_figure = np.argmax(output_data, axis=1)[0]\n",
        "print(predicted_figure)\n"
      ],
      "execution_count": 122,
      "outputs": [
        {
          "output_type": "stream",
          "name": "stdout",
          "text": [
            "1\n"
          ]
        }
      ]
    },
    {
      "cell_type": "code",
      "metadata": {
        "id": "9mO7l5p-B6fI"
      },
      "source": [
        ""
      ],
      "execution_count": null,
      "outputs": []
    }
  ]
}